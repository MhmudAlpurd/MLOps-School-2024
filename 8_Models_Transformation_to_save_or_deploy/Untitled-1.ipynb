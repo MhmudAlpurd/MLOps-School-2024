{
 "cells": [
  {
   "cell_type": "code",
   "execution_count": 1,
   "metadata": {},
   "outputs": [
    {
     "name": "stderr",
     "output_type": "stream",
     "text": [
      "2024-10-24 19:06:26.869828: E external/local_xla/xla/stream_executor/cuda/cuda_fft.cc:485] Unable to register cuFFT factory: Attempting to register factory for plugin cuFFT when one has already been registered\n",
      "2024-10-24 19:06:26.883934: E external/local_xla/xla/stream_executor/cuda/cuda_dnn.cc:8454] Unable to register cuDNN factory: Attempting to register factory for plugin cuDNN when one has already been registered\n",
      "2024-10-24 19:06:26.888236: E external/local_xla/xla/stream_executor/cuda/cuda_blas.cc:1452] Unable to register cuBLAS factory: Attempting to register factory for plugin cuBLAS when one has already been registered\n",
      "2024-10-24 19:06:26.898302: I tensorflow/core/platform/cpu_feature_guard.cc:210] This TensorFlow binary is optimized to use available CPU instructions in performance-critical operations.\n",
      "To enable the following instructions: AVX2 FMA, in other operations, rebuild TensorFlow with the appropriate compiler flags.\n",
      "2024-10-24 19:06:27.649256: W tensorflow/compiler/tf2tensorrt/utils/py_utils.cc:38] TF-TRT Warning: Could not find TensorRT\n"
     ]
    }
   ],
   "source": [
    "import tensorflow as tf \n",
    "import numpy as np "
   ]
  },
  {
   "cell_type": "code",
   "execution_count": 2,
   "metadata": {},
   "outputs": [],
   "source": [
    "(train_images, train_labels), (test_images, test_labels) = tf.keras.datasets.mnist.load_data()"
   ]
  },
  {
   "cell_type": "code",
   "execution_count": 3,
   "metadata": {},
   "outputs": [],
   "source": [
    "train_images  = train_images.reshape(-1, 28, 28, 1).astype(\"float32\")/255.0\n",
    "test_images = test_images.reshape(-1, 28, 28, 1).astype('float32')/255.0"
   ]
  },
  {
   "cell_type": "code",
   "execution_count": 4,
   "metadata": {},
   "outputs": [
    {
     "name": "stderr",
     "output_type": "stream",
     "text": [
      "/home/amin/anaconda3/lib/python3.11/site-packages/keras/src/layers/convolutional/base_conv.py:107: UserWarning: Do not pass an `input_shape`/`input_dim` argument to a layer. When using Sequential models, prefer using an `Input(shape)` object as the first layer in the model instead.\n",
      "  super().__init__(activity_regularizer=activity_regularizer, **kwargs)\n",
      "WARNING: All log messages before absl::InitializeLog() is called are written to STDERR\n",
      "I0000 00:00:1729784188.739210   37314 cuda_executor.cc:1015] successful NUMA node read from SysFS had negative value (-1), but there must be at least one NUMA node, so returning NUMA node zero. See more at https://github.com/torvalds/linux/blob/v6.0/Documentation/ABI/testing/sysfs-bus-pci#L344-L355\n",
      "2024-10-24 19:06:28.773671: W tensorflow/core/common_runtime/gpu/gpu_device.cc:2343] Cannot dlopen some GPU libraries. Please make sure the missing libraries mentioned above are installed properly if you would like to use GPU. Follow the guide at https://www.tensorflow.org/install/gpu for how to download and setup the required libraries for your platform.\n",
      "Skipping registering GPU devices...\n"
     ]
    }
   ],
   "source": [
    "model = tf.keras.models.Sequential([\n",
    "    tf.keras.layers.Conv2D(32, (3, 3), activation='relu', input_shape=(28, 28, 1)), \n",
    "    tf.keras.layers.MaxPooling2D((2, 2)), \n",
    "    tf.keras.layers.Conv2D(64, (3, 3), activation= 'relu'), \n",
    "    tf.keras.layers.MaxPooling2D((2, 2)), \n",
    "    tf.keras.layers.Flatten(), \n",
    "    tf.keras.layers.Dense(64, activation='relu'), \n",
    "    tf.keras.layers.Dense(10, activation='softmax')\n",
    "\n",
    "])"
   ]
  },
  {
   "cell_type": "code",
   "execution_count": 5,
   "metadata": {},
   "outputs": [
    {
     "name": "stdout",
     "output_type": "stream",
     "text": [
      "Epoch 1/2\n",
      "\u001b[1m1688/1688\u001b[0m \u001b[32m━━━━━━━━━━━━━━━━━━━━\u001b[0m\u001b[37m\u001b[0m \u001b[1m12s\u001b[0m 7ms/step - accuracy: 0.8860 - loss: 0.3634 - val_accuracy: 0.9828 - val_loss: 0.0587\n",
      "Epoch 2/2\n",
      "\u001b[1m1688/1688\u001b[0m \u001b[32m━━━━━━━━━━━━━━━━━━━━\u001b[0m\u001b[37m\u001b[0m \u001b[1m11s\u001b[0m 7ms/step - accuracy: 0.9824 - loss: 0.0568 - val_accuracy: 0.9887 - val_loss: 0.0409\n"
     ]
    },
    {
     "data": {
      "text/plain": [
       "<keras.src.callbacks.history.History at 0x7c093cddbdd0>"
      ]
     },
     "execution_count": 5,
     "metadata": {},
     "output_type": "execute_result"
    }
   ],
   "source": [
    "model.compile(optimizer='adam', loss='sparse_categorical_crossentropy', metrics=['accuracy'])\n",
    "model.fit(train_images, train_labels, epochs=2, validation_split=0.1)\n"
   ]
  },
  {
   "cell_type": "code",
   "execution_count": 6,
   "metadata": {},
   "outputs": [],
   "source": [
    "#keras\n",
    "model.save('mnist_saved_keras.keras')"
   ]
  },
  {
   "cell_type": "code",
   "execution_count": 7,
   "metadata": {},
   "outputs": [
    {
     "name": "stderr",
     "output_type": "stream",
     "text": [
      "WARNING:absl:You are saving your model as an HDF5 file via `model.save()` or `keras.saving.save_model(model)`. This file format is considered legacy. We recommend using instead the native Keras format, e.g. `model.save('my_model.keras')` or `keras.saving.save_model(model, 'my_model.keras')`. \n"
     ]
    }
   ],
   "source": [
    "#h5\n",
    "model.save('mnist_saved_h5.h5')"
   ]
  },
  {
   "cell_type": "code",
   "execution_count": 8,
   "metadata": {},
   "outputs": [
    {
     "name": "stdout",
     "output_type": "stream",
     "text": [
      "INFO:tensorflow:Assets written to: /tmp/tmpao5hgny1/assets\n"
     ]
    },
    {
     "name": "stderr",
     "output_type": "stream",
     "text": [
      "INFO:tensorflow:Assets written to: /tmp/tmpao5hgny1/assets\n"
     ]
    },
    {
     "name": "stdout",
     "output_type": "stream",
     "text": [
      "Saved artifact at '/tmp/tmpao5hgny1'. The following endpoints are available:\n",
      "\n",
      "* Endpoint 'serve'\n",
      "  args_0 (POSITIONAL_ONLY): TensorSpec(shape=(None, 28, 28, 1), dtype=tf.float32, name='keras_tensor')\n",
      "Output Type:\n",
      "  TensorSpec(shape=(None, 10), dtype=tf.float32, name=None)\n",
      "Captures:\n",
      "  136379127626064: TensorSpec(shape=(), dtype=tf.resource, name=None)\n",
      "  136379127625488: TensorSpec(shape=(), dtype=tf.resource, name=None)\n",
      "  136379127627024: TensorSpec(shape=(), dtype=tf.resource, name=None)\n",
      "  136379127627408: TensorSpec(shape=(), dtype=tf.resource, name=None)\n",
      "  136379127622416: TensorSpec(shape=(), dtype=tf.resource, name=None)\n",
      "  136379127625872: TensorSpec(shape=(), dtype=tf.resource, name=None)\n",
      "  136379127627600: TensorSpec(shape=(), dtype=tf.resource, name=None)\n",
      "  136379127626640: TensorSpec(shape=(), dtype=tf.resource, name=None)\n"
     ]
    },
    {
     "name": "stderr",
     "output_type": "stream",
     "text": [
      "WARNING: All log messages before absl::InitializeLog() is called are written to STDERR\n",
      "W0000 00:00:1729784212.429239   37314 tf_tfl_flatbuffer_helpers.cc:392] Ignored output_format.\n",
      "W0000 00:00:1729784212.429258   37314 tf_tfl_flatbuffer_helpers.cc:395] Ignored drop_control_dependency.\n",
      "2024-10-24 19:06:52.429723: I tensorflow/cc/saved_model/reader.cc:83] Reading SavedModel from: /tmp/tmpao5hgny1\n",
      "2024-10-24 19:06:52.430151: I tensorflow/cc/saved_model/reader.cc:52] Reading meta graph with tags { serve }\n",
      "2024-10-24 19:06:52.430164: I tensorflow/cc/saved_model/reader.cc:147] Reading SavedModel debug info (if present) from: /tmp/tmpao5hgny1\n",
      "2024-10-24 19:06:52.433493: I tensorflow/compiler/mlir/mlir_graph_optimization_pass.cc:388] MLIR V1 optimization pass is not enabled\n",
      "2024-10-24 19:06:52.434166: I tensorflow/cc/saved_model/loader.cc:236] Restoring SavedModel bundle.\n",
      "2024-10-24 19:06:52.456328: I tensorflow/cc/saved_model/loader.cc:220] Running initialization op on SavedModel bundle at path: /tmp/tmpao5hgny1\n",
      "2024-10-24 19:06:52.463737: I tensorflow/cc/saved_model/loader.cc:462] SavedModel load for tags { serve }; Status: success: OK. Took 34017 microseconds.\n",
      "2024-10-24 19:06:52.470959: I tensorflow/compiler/mlir/tensorflow/utils/dump_mlir_util.cc:268] disabling MLIR crash reproducer, set env var `MLIR_CRASH_REPRODUCER_DIRECTORY` to enable.\n"
     ]
    }
   ],
   "source": [
    "#tflite\n",
    "converter = tf.lite.TFLiteConverter.from_keras_model(model)\n",
    "tflite_model = converter.convert()\n",
    "with open('mnist_saved_tflite.tflite', \"wb\") as f :\n",
    "    f.write(tflite_model)\n",
    "\n"
   ]
  },
  {
   "cell_type": "code",
   "execution_count": 9,
   "metadata": {},
   "outputs": [
    {
     "name": "stderr",
     "output_type": "stream",
     "text": [
      "I0000 00:00:1729784212.662951   37314 cuda_executor.cc:1015] successful NUMA node read from SysFS had negative value (-1), but there must be at least one NUMA node, so returning NUMA node zero. See more at https://github.com/torvalds/linux/blob/v6.0/Documentation/ABI/testing/sysfs-bus-pci#L344-L355\n",
      "I0000 00:00:1729784212.663932   37314 devices.cc:67] Number of eligible GPUs (core count >= 8, compute capability >= 0.0): 1\n",
      "2024-10-24 19:06:52.664002: I tensorflow/core/grappler/clusters/single_machine.cc:361] Starting new session\n",
      "I0000 00:00:1729784212.664307   37314 cuda_executor.cc:1015] successful NUMA node read from SysFS had negative value (-1), but there must be at least one NUMA node, so returning NUMA node zero. See more at https://github.com/torvalds/linux/blob/v6.0/Documentation/ABI/testing/sysfs-bus-pci#L344-L355\n",
      "2024-10-24 19:06:52.665222: W tensorflow/core/common_runtime/gpu/gpu_device.cc:2343] Cannot dlopen some GPU libraries. Please make sure the missing libraries mentioned above are installed properly if you would like to use GPU. Follow the guide at https://www.tensorflow.org/install/gpu for how to download and setup the required libraries for your platform.\n",
      "Skipping registering GPU devices...\n",
      "I0000 00:00:1729784212.819719   37314 cuda_executor.cc:1015] successful NUMA node read from SysFS had negative value (-1), but there must be at least one NUMA node, so returning NUMA node zero. See more at https://github.com/torvalds/linux/blob/v6.0/Documentation/ABI/testing/sysfs-bus-pci#L344-L355\n",
      "I0000 00:00:1729784212.820707   37314 devices.cc:67] Number of eligible GPUs (core count >= 8, compute capability >= 0.0): 1\n",
      "2024-10-24 19:06:52.820787: I tensorflow/core/grappler/clusters/single_machine.cc:361] Starting new session\n",
      "I0000 00:00:1729784212.821089   37314 cuda_executor.cc:1015] successful NUMA node read from SysFS had negative value (-1), but there must be at least one NUMA node, so returning NUMA node zero. See more at https://github.com/torvalds/linux/blob/v6.0/Documentation/ABI/testing/sysfs-bus-pci#L344-L355\n",
      "2024-10-24 19:06:52.821962: W tensorflow/core/common_runtime/gpu/gpu_device.cc:2343] Cannot dlopen some GPU libraries. Please make sure the missing libraries mentioned above are installed properly if you would like to use GPU. Follow the guide at https://www.tensorflow.org/install/gpu for how to download and setup the required libraries for your platform.\n",
      "Skipping registering GPU devices...\n"
     ]
    }
   ],
   "source": [
    "#ONNX\n",
    "import tf2onnx\n",
    "import onnx\n",
    "\n",
    "model.output_names = ['output']\n",
    "\n",
    "\n",
    "spec =(tf.TensorSpec((None, 28, 28, 1), tf.float32, name='input'), )\n",
    "onnx_model, _ = tf2onnx.convert.from_keras(model, input_signature=spec)\n",
    "onnx.save_model(onnx_model, 'mnist_saved_onnx.onnx')"
   ]
  },
  {
   "cell_type": "code",
   "execution_count": 10,
   "metadata": {},
   "outputs": [],
   "source": [
    "#size of output models\n",
    "import os\n",
    "\n",
    "\n",
    "def get_file_size(file_name, file_path):\n",
    "    file_size = os.path.getsize(file_path)\n",
    "    file_size = file_size / (1024 * 1024)\n",
    "    print(f\"{file_name} size: {file_size:.2f} MB\")"
   ]
  },
  {
   "cell_type": "code",
   "execution_count": 11,
   "metadata": {},
   "outputs": [
    {
     "name": "stdout",
     "output_type": "stream",
     "text": [
      "h5 format size: 1.43 MB\n",
      "keras format size: 1.43 MB\n",
      "onnx format size: 0.47 MB\n",
      "tflite format size: 0.47 MB\n"
     ]
    }
   ],
   "source": [
    "get_file_size('h5 format', 'mnist_saved_h5.h5')\n",
    "get_file_size('keras format', 'mnist_saved_keras.keras')\n",
    "get_file_size('onnx format', 'mnist_saved_onnx.onnx')\n",
    "get_file_size('tflite format', 'mnist_saved_tflite.tflite')"
   ]
  },
  {
   "cell_type": "code",
   "execution_count": 21,
   "metadata": {},
   "outputs": [
    {
     "name": "stderr",
     "output_type": "stream",
     "text": [
      "WARNING:absl:Compiled the loaded model, but the compiled metrics have yet to be built. `model.compile_metrics` will be empty until you train or evaluate the model.\n"
     ]
    },
    {
     "name": "stdout",
     "output_type": "stream",
     "text": [
      "WARNING:tensorflow:5 out of the last 5 calls to <function TensorFlowTrainer.make_predict_function.<locals>.one_step_on_data_distributed at 0x7c08d6d9f7e0> triggered tf.function retracing. Tracing is expensive and the excessive number of tracings could be due to (1) creating @tf.function repeatedly in a loop, (2) passing tensors with different shapes, (3) passing Python objects instead of tensors. For (1), please define your @tf.function outside of the loop. For (2), @tf.function has reduce_retracing=True option that can avoid unnecessary retracing. For (3), please refer to https://www.tensorflow.org/guide/function#controlling_retracing and https://www.tensorflow.org/api_docs/python/tf/function for  more details.\n"
     ]
    },
    {
     "name": "stderr",
     "output_type": "stream",
     "text": [
      "WARNING:tensorflow:5 out of the last 5 calls to <function TensorFlowTrainer.make_predict_function.<locals>.one_step_on_data_distributed at 0x7c08d6d9f7e0> triggered tf.function retracing. Tracing is expensive and the excessive number of tracings could be due to (1) creating @tf.function repeatedly in a loop, (2) passing tensors with different shapes, (3) passing Python objects instead of tensors. For (1), please define your @tf.function outside of the loop. For (2), @tf.function has reduce_retracing=True option that can avoid unnecessary retracing. For (3), please refer to https://www.tensorflow.org/guide/function#controlling_retracing and https://www.tensorflow.org/api_docs/python/tf/function for  more details.\n"
     ]
    },
    {
     "name": "stdout",
     "output_type": "stream",
     "text": [
      "\u001b[1m1/1\u001b[0m \u001b[32m━━━━━━━━━━━━━━━━━━━━\u001b[0m\u001b[37m\u001b[0m \u001b[1m0s\u001b[0m 42ms/step\n",
      "predictied_class:  3\n",
      "h5_inference_time 0.0717313289642334\n"
     ]
    }
   ],
   "source": [
    "#inference_time : h5\n",
    "import time\n",
    "from PIL import Image\n",
    "\n",
    "\n",
    "model = tf.keras.models.load_model('mnist_saved_h5.h5')\n",
    "#model.summary()\n",
    "\n",
    "\n",
    "def preprocess_image(image_path):\n",
    "    img = Image.open(image_path).convert('L')\n",
    "    img = img.resize((28, 28))\n",
    "\n",
    "    img_array = np.array(img)\n",
    "    img_array = img_array.astype('float32') / 255.0\n",
    "\n",
    "    img_array = img_array.reshape(1, 28, 28, 1)\n",
    "\n",
    "    return img_array\n",
    "\n",
    "image_path = 'three.jpg'\n",
    "\n",
    "start_time = time.time()\n",
    "\n",
    "test_image = preprocess_image(image_path)\n",
    "\n",
    "predictions = model.predict(test_image)\n",
    "predicted_class = np.argmax(predictions, axis=1)\n",
    "\n",
    "end_time = time.time()\n",
    "\n",
    "h5_inference_time = end_time - start_time\n",
    "\n",
    "print( 'predictied_class: ', predicted_class[0])\n",
    "print(\"h5_inference_time\", h5_inference_time)\n"
   ]
  },
  {
   "cell_type": "code",
   "execution_count": 25,
   "metadata": {},
   "outputs": [
    {
     "name": "stdout",
     "output_type": "stream",
     "text": [
      "predictied_class:  3\n",
      "tflite_inference_time 0.0005831718444824219\n"
     ]
    }
   ],
   "source": [
    "#tflite inference time\n",
    "\n",
    "tflite_model_path = 'mnist_saved_tflite.tflite'\n",
    "\n",
    "\n",
    "interpreter = tf.lite.Interpreter(model_path=tflite_model_path)\n",
    "interpreter.allocate_tensors()\n",
    "\n",
    "\n",
    "input_details = interpreter.get_input_details()\n",
    "output_details = interpreter.get_output_details()\n",
    "\n",
    "\n",
    "image_path = 'three.jpg'\n",
    "\n",
    "\n",
    "test_image = preprocess_image(image_path)\n",
    "\n",
    "start_time = time.time()\n",
    "\n",
    "interpreter.set_tensor(input_details[0]['index'], test_image)\n",
    "\n",
    "interpreter.invoke()\n",
    "\n",
    "predictions = interpreter.get_tensor(output_details[0]['index'])\n",
    "\n",
    "end_time = time.time()\n",
    "\n",
    "predicted_class = np.argmax(predictions, axis=1)\n",
    "tflite_inference_time = end_time - start_time\n",
    "\n",
    "print( 'predictied_class: ', predicted_class[0])\n",
    "print(\"tflite_inference_time\", tflite_inference_time)\n",
    "\n"
   ]
  },
  {
   "cell_type": "code",
   "execution_count": 36,
   "metadata": {},
   "outputs": [
    {
     "name": "stdout",
     "output_type": "stream",
     "text": [
      "predictied_class:  3\n",
      "onnx_inference_time 0.0019366741180419922\n"
     ]
    }
   ],
   "source": [
    "import onnx\n",
    "import onnxruntime as ort\n",
    "\n",
    "onnx_model_path = 'mnist_saved_onnx.onnx'\n",
    "onnx_model = onnx.load(onnx_model_path)\n",
    "\n",
    "\n",
    "#input_shape = onnx_model.graph.input[0].type.tensor_type.shape.dim\n",
    "#print(input_shape)\n",
    "\n",
    "\n",
    "session = ort.InferenceSession(onnx_model_path)\n",
    "\n",
    "input_name = session.get_inputs()[0].name\n",
    "output_name = session.get_outputs()[0].name\n",
    "\n",
    "\n",
    "img = 'three.jpg'\n",
    "\n",
    "start_time = time.time()\n",
    "\n",
    "test_image = preprocess_image(img)\n",
    "\n",
    "predictions = session.run([output_name], {input_name : test_image})\n",
    "\n",
    "end_time = time.time()\n",
    "predicted_class = np.argmax(predictions[0], axis=1)\n",
    "\n",
    "onnx_inference_time = end_time - start_time\n",
    "\n",
    "print( 'predictied_class: ', predicted_class[0])\n",
    "print(\"onnx_inference_time\", onnx_inference_time)\n",
    "\n",
    "\n",
    "\n",
    "\n",
    "\n"
   ]
  },
  {
   "cell_type": "code",
   "execution_count": 38,
   "metadata": {},
   "outputs": [
    {
     "name": "stdout",
     "output_type": "stream",
     "text": [
      "h5_inference_time 0.0717313289642334 seconds\n",
      "onnx_inference_time 0.0019366741180419922 seconds\n",
      "tflite_inference_time 0.0005831718444824219 seconds\n"
     ]
    }
   ],
   "source": [
    "print(\"h5_inference_time\", h5_inference_time, 'seconds')\n",
    "print(\"onnx_inference_time\", onnx_inference_time, 'seconds')\n",
    "print(\"tflite_inference_time\", tflite_inference_time , 'seconds')"
   ]
  },
  {
   "cell_type": "code",
   "execution_count": null,
   "metadata": {},
   "outputs": [],
   "source": [
    "#Accuracy"
   ]
  }
 ],
 "metadata": {
  "kernelspec": {
   "display_name": "base",
   "language": "python",
   "name": "python3"
  },
  "language_info": {
   "codemirror_mode": {
    "name": "ipython",
    "version": 3
   },
   "file_extension": ".py",
   "mimetype": "text/x-python",
   "name": "python",
   "nbconvert_exporter": "python",
   "pygments_lexer": "ipython3",
   "version": "3.11.4"
  }
 },
 "nbformat": 4,
 "nbformat_minor": 2
}
